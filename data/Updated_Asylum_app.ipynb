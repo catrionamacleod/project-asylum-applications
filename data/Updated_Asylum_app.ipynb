{
 "cells": [
  {
   "cell_type": "markdown",
   "id": "f5ccee75-ad58-4b9e-9549-0a5185a5f8e5",
   "metadata": {},
   "source": [
    "Introduction-\n",
    "\n",
    "The aim is to investigate whether the number of asylum applications processed (decided on status) in the UK varies with the number of refugee or asylum seeker arrivals. This is an effort to assess whether the increase in arrivals overtime has been appropriately arranged for by the department in charge of processing applications. This is important to understand the backlog and thus, improve the refugee/asylum seeker conditions in the UK. They are often held in a state of limbo where they are waiting for a decision on their application and are thus, unable to work or send children to school. Government is also spending money, paying for their accomodation costs. More recently, agreements like the Rwanda agreement are to transfer refugees to Rwanda etc?\n"
   ]
  },
  {
   "cell_type": "code",
   "execution_count": 1,
   "id": "6a95e188-56a8-41cc-87d4-f3297b0543af",
   "metadata": {},
   "outputs": [],
   "source": [
    "import pandas as pd\n",
    "import matplotlib.pyplot as plt"
   ]
  },
  {
   "cell_type": "code",
   "execution_count": 2,
   "id": "d35d863f-7c1d-43aa-aaf0-585e44425a36",
   "metadata": {
    "scrolled": true
   },
   "outputs": [],
   "source": [
    "#Number of applications overtime dataset, main applicants only\n",
    "asylum_applications_file = 'asylum-applications-datasets-sep-2023.csv'"
   ]
  },
  {
   "cell_type": "code",
   "execution_count": 3,
   "id": "5323ea90-5f14-4aa4-85dd-2b12442c5d8a",
   "metadata": {},
   "outputs": [
    {
     "name": "stderr",
     "output_type": "stream",
     "text": [
      "/tmp/ipykernel_140/660198971.py:2: DtypeWarning: Columns (0) have mixed types. Specify dtype option on import or set low_memory=False.\n",
      "  number_of_applications = pd.read_csv(asylum_applications_file, skiprows=1)\n"
     ]
    }
   ],
   "source": [
    "#skiprows=1 to not transfer the title, to ensure column names are headings \n",
    "number_of_applications = pd.read_csv(asylum_applications_file, skiprows=1)"
   ]
  },
  {
   "cell_type": "code",
   "execution_count": 4,
   "id": "5ccce84c-f964-49de-bed7-5936a7c9a4cc",
   "metadata": {},
   "outputs": [],
   "source": [
    "#Applications waiting decisions overtime dataset main applicants only\n",
    "applications_awaiting_decisions_file = 'Copy of asylum-applications-awaiting-decision-datasets-sep-2023.csv'"
   ]
  },
  {
   "cell_type": "code",
   "execution_count": 5,
   "id": "bc645847-ee1e-4172-b6f2-509b2e0a64a4",
   "metadata": {},
   "outputs": [],
   "source": [
    "applications_awaiting_decisions = pd.read_csv(applications_awaiting_decisions_file, skiprows=1)"
   ]
  },
  {
   "cell_type": "code",
   "execution_count": 6,
   "id": "c3540b9e-96a8-4096-9261-8d1fc980f0ce",
   "metadata": {},
   "outputs": [
    {
     "data": {
      "text/html": [
       "<div>\n",
       "<style scoped>\n",
       "    .dataframe tbody tr th:only-of-type {\n",
       "        vertical-align: middle;\n",
       "    }\n",
       "\n",
       "    .dataframe tbody tr th {\n",
       "        vertical-align: top;\n",
       "    }\n",
       "\n",
       "    .dataframe thead th {\n",
       "        text-align: right;\n",
       "    }\n",
       "</style>\n",
       "<table border=\"1\" class=\"dataframe\">\n",
       "  <thead>\n",
       "    <tr style=\"text-align: right;\">\n",
       "      <th></th>\n",
       "      <th>Year</th>\n",
       "      <th>Quarter</th>\n",
       "      <th>Nationality</th>\n",
       "      <th>Region</th>\n",
       "      <th>Age</th>\n",
       "      <th>Sex</th>\n",
       "      <th>Applicant type</th>\n",
       "      <th>UASC</th>\n",
       "      <th>Location of application</th>\n",
       "      <th>Applications</th>\n",
       "    </tr>\n",
       "  </thead>\n",
       "  <tbody>\n",
       "    <tr>\n",
       "      <th>0</th>\n",
       "      <td>2001</td>\n",
       "      <td>2001 Q1</td>\n",
       "      <td>Afghanistan</td>\n",
       "      <td>Asia Central</td>\n",
       "      <td>Total (pre-2009)</td>\n",
       "      <td>Total (pre-2009)</td>\n",
       "      <td>Main Applicant</td>\n",
       "      <td>Total (pre-2006)</td>\n",
       "      <td>At Port</td>\n",
       "      <td>1,021</td>\n",
       "    </tr>\n",
       "    <tr>\n",
       "      <th>1</th>\n",
       "      <td>2001</td>\n",
       "      <td>2001 Q1</td>\n",
       "      <td>Afghanistan</td>\n",
       "      <td>Asia Central</td>\n",
       "      <td>Total (pre-2009)</td>\n",
       "      <td>Total (pre-2009)</td>\n",
       "      <td>Main Applicant</td>\n",
       "      <td>Total (pre-2006)</td>\n",
       "      <td>In Country</td>\n",
       "      <td>896</td>\n",
       "    </tr>\n",
       "    <tr>\n",
       "      <th>2</th>\n",
       "      <td>2001</td>\n",
       "      <td>2001 Q1</td>\n",
       "      <td>Albania</td>\n",
       "      <td>Europe Other</td>\n",
       "      <td>Total (pre-2009)</td>\n",
       "      <td>Total (pre-2009)</td>\n",
       "      <td>Main Applicant</td>\n",
       "      <td>Total (pre-2006)</td>\n",
       "      <td>At Port</td>\n",
       "      <td>75</td>\n",
       "    </tr>\n",
       "    <tr>\n",
       "      <th>3</th>\n",
       "      <td>2001</td>\n",
       "      <td>2001 Q1</td>\n",
       "      <td>Albania</td>\n",
       "      <td>Europe Other</td>\n",
       "      <td>Total (pre-2009)</td>\n",
       "      <td>Total (pre-2009)</td>\n",
       "      <td>Main Applicant</td>\n",
       "      <td>Total (pre-2006)</td>\n",
       "      <td>In Country</td>\n",
       "      <td>288</td>\n",
       "    </tr>\n",
       "    <tr>\n",
       "      <th>4</th>\n",
       "      <td>2001</td>\n",
       "      <td>2001 Q1</td>\n",
       "      <td>Algeria</td>\n",
       "      <td>Africa North</td>\n",
       "      <td>Total (pre-2009)</td>\n",
       "      <td>Total (pre-2009)</td>\n",
       "      <td>Main Applicant</td>\n",
       "      <td>Total (pre-2006)</td>\n",
       "      <td>At Port</td>\n",
       "      <td>57</td>\n",
       "    </tr>\n",
       "  </tbody>\n",
       "</table>\n",
       "</div>"
      ],
      "text/plain": [
       "   Year  Quarter  Nationality        Region               Age  \\\n",
       "0  2001  2001 Q1  Afghanistan  Asia Central  Total (pre-2009)   \n",
       "1  2001  2001 Q1  Afghanistan  Asia Central  Total (pre-2009)   \n",
       "2  2001  2001 Q1      Albania  Europe Other  Total (pre-2009)   \n",
       "3  2001  2001 Q1      Albania  Europe Other  Total (pre-2009)   \n",
       "4  2001  2001 Q1      Algeria  Africa North  Total (pre-2009)   \n",
       "\n",
       "                Sex  Applicant type              UASC Location of application  \\\n",
       "0  Total (pre-2009)  Main Applicant  Total (pre-2006)                 At Port   \n",
       "1  Total (pre-2009)  Main Applicant  Total (pre-2006)              In Country   \n",
       "2  Total (pre-2009)  Main Applicant  Total (pre-2006)                 At Port   \n",
       "3  Total (pre-2009)  Main Applicant  Total (pre-2006)              In Country   \n",
       "4  Total (pre-2009)  Main Applicant  Total (pre-2006)                 At Port   \n",
       "\n",
       "  Applications  \n",
       "0        1,021  \n",
       "1          896  \n",
       "2           75  \n",
       "3          288  \n",
       "4           57  "
      ]
     },
     "execution_count": 6,
     "metadata": {},
     "output_type": "execute_result"
    }
   ],
   "source": [
    "number_of_applications.head()"
   ]
  },
  {
   "cell_type": "code",
   "execution_count": 7,
   "id": "6c833b4e-7cdb-4fe4-834b-7fb32c6fb7a7",
   "metadata": {},
   "outputs": [],
   "source": [
    "#year column as consistent data type\n",
    "number_of_applications['Year'] = number_of_applications['Year'].astype(str)"
   ]
  },
  {
   "cell_type": "code",
   "execution_count": 8,
   "id": "954ec67b-7e6e-45e1-9e72-aa1e4bb778c2",
   "metadata": {},
   "outputs": [],
   "source": [
    "#cleaning applications column by: removing commas, filling nan with 0, converting to int\n",
    "#assumption- by filling nan with 0, unrecorded asylum applications are null\n",
    "number_of_applications['Applications'] = number_of_applications['Applications'].str.replace(',', '')\n",
    "number_of_applications['Applications'] = number_of_applications['Applications'].fillna(0).astype(int)\n"
   ]
  },
  {
   "cell_type": "code",
   "execution_count": 9,
   "id": "de135858-56e1-43e8-adaf-c28ce741e387",
   "metadata": {},
   "outputs": [],
   "source": [
    "#number_of_applications.iloc[69576]- row marks end of table\n",
    "no_of_applications= number_of_applications.drop([69576])\n"
   ]
  },
  {
   "cell_type": "code",
   "execution_count": 10,
   "id": "b342abbf-8bb2-43fb-be90-5833790a44b4",
   "metadata": {},
   "outputs": [
    {
     "data": {
      "text/html": [
       "<div>\n",
       "<style scoped>\n",
       "    .dataframe tbody tr th:only-of-type {\n",
       "        vertical-align: middle;\n",
       "    }\n",
       "\n",
       "    .dataframe tbody tr th {\n",
       "        vertical-align: top;\n",
       "    }\n",
       "\n",
       "    .dataframe thead th {\n",
       "        text-align: right;\n",
       "    }\n",
       "</style>\n",
       "<table border=\"1\" class=\"dataframe\">\n",
       "  <thead>\n",
       "    <tr style=\"text-align: right;\">\n",
       "      <th></th>\n",
       "      <th>Year</th>\n",
       "      <th>Applications</th>\n",
       "    </tr>\n",
       "  </thead>\n",
       "  <tbody>\n",
       "    <tr>\n",
       "      <th>0</th>\n",
       "      <td>2001</td>\n",
       "      <td>71027</td>\n",
       "    </tr>\n",
       "    <tr>\n",
       "      <th>1</th>\n",
       "      <td>2002</td>\n",
       "      <td>103081</td>\n",
       "    </tr>\n",
       "    <tr>\n",
       "      <th>2</th>\n",
       "      <td>2003</td>\n",
       "      <td>60047</td>\n",
       "    </tr>\n",
       "    <tr>\n",
       "      <th>3</th>\n",
       "      <td>2004</td>\n",
       "      <td>40623</td>\n",
       "    </tr>\n",
       "    <tr>\n",
       "      <th>4</th>\n",
       "      <td>2005</td>\n",
       "      <td>30841</td>\n",
       "    </tr>\n",
       "  </tbody>\n",
       "</table>\n",
       "</div>"
      ],
      "text/plain": [
       "   Year  Applications\n",
       "0  2001         71027\n",
       "1  2002        103081\n",
       "2  2003         60047\n",
       "3  2004         40623\n",
       "4  2005         30841"
      ]
     },
     "execution_count": 10,
     "metadata": {},
     "output_type": "execute_result"
    }
   ],
   "source": [
    "#groupby: total number of applications per year\n",
    "applications_per_year = no_of_applications.groupby('Year')['Applications'].sum().reset_index()\n",
    "applications_per_year.head()"
   ]
  },
  {
   "cell_type": "code",
   "execution_count": 11,
   "id": "37d33fde-cbbc-4440-85e4-eb042b0f35ba",
   "metadata": {},
   "outputs": [
    {
     "data": {
      "image/png": "[encoded data removed]",
      "text/plain": [
       "<Figure size 1000x600 with 1 Axes>"
      ]
     },
     "metadata": {},
     "output_type": "display_data"
    }
   ],
   "source": [
    "plt.figure(figsize=(10, 6))\n",
    "x_axis = applications_per_year['Year'].iloc[9:]\n",
    "y_axis = applications_per_year['Applications'].iloc[9:]\n",
    "plt.plot(x_axis, y_axis)\n",
    "plt.title('Number of Asylum Applications Over Time in the UK')\n",
    "plt.xlabel('Year')\n",
    "plt.ylabel('Number of Applications (in thousands)')\n",
    "\n",
    "#Rotate x-axis labels for better readability\n",
    "plt.xticks(rotation=45, ha='right')\n",
    "\n",
    "plt.grid(True)\n",
    "plt.show()"
   ]
  },
  {
   "cell_type": "markdown",
   "id": "4d575abd-100e-4c27-b41b-332d622e9d20",
   "metadata": {},
   "source": [
    "This graph shows the number of asylum applications made in the UK. The fluctuations can be attributed to some geopolitical factors occuring at the same time, for example- the dip in applications made around 2020 can be a result of the Covid-19 pandemic."
   ]
  },
  {
   "cell_type": "code",
   "execution_count": 12,
   "id": "a95ff00d-a8ce-4707-8184-d4b8098ab19e",
   "metadata": {},
   "outputs": [],
   "source": [
    "#applications_awaiting_decisions.iloc[32695]\n",
    "applications_awaiting_decisions.rename(columns={'Date (as at...)': 'Date'},inplace=True)\n",
    "app_awaiting_decisions = applications_awaiting_decisions.drop([32695])"
   ]
  },
  {
   "cell_type": "code",
   "execution_count": 13,
   "id": "c6e4c871-dd4c-4c40-8aa0-2fd4b021d41b",
   "metadata": {},
   "outputs": [
    {
     "data": {
      "text/html": [
       "<div>\n",
       "<style scoped>\n",
       "    .dataframe tbody tr th:only-of-type {\n",
       "        vertical-align: middle;\n",
       "    }\n",
       "\n",
       "    .dataframe tbody tr th {\n",
       "        vertical-align: top;\n",
       "    }\n",
       "\n",
       "    .dataframe thead th {\n",
       "        text-align: right;\n",
       "    }\n",
       "</style>\n",
       "<table border=\"1\" class=\"dataframe\">\n",
       "  <thead>\n",
       "    <tr style=\"text-align: right;\">\n",
       "      <th></th>\n",
       "      <th>Date</th>\n",
       "      <th>Nationality</th>\n",
       "      <th>Region</th>\n",
       "      <th>Applicant type</th>\n",
       "      <th>Application stage</th>\n",
       "      <th>Duration</th>\n",
       "      <th>Applications</th>\n",
       "      <th>Year</th>\n",
       "    </tr>\n",
       "  </thead>\n",
       "  <tbody>\n",
       "    <tr>\n",
       "      <th>0</th>\n",
       "      <td>2010-06-30</td>\n",
       "      <td>Afghanistan</td>\n",
       "      <td>Asia Central</td>\n",
       "      <td>Dependant</td>\n",
       "      <td>Pending further review</td>\n",
       "      <td>N/A - Further review</td>\n",
       "      <td>129.0</td>\n",
       "      <td>2010</td>\n",
       "    </tr>\n",
       "    <tr>\n",
       "      <th>1</th>\n",
       "      <td>2010-06-30</td>\n",
       "      <td>Afghanistan</td>\n",
       "      <td>Asia Central</td>\n",
       "      <td>Dependant</td>\n",
       "      <td>Pending initial decision</td>\n",
       "      <td>6 months or less</td>\n",
       "      <td>38.0</td>\n",
       "      <td>2010</td>\n",
       "    </tr>\n",
       "    <tr>\n",
       "      <th>2</th>\n",
       "      <td>2010-06-30</td>\n",
       "      <td>Afghanistan</td>\n",
       "      <td>Asia Central</td>\n",
       "      <td>Dependant</td>\n",
       "      <td>Pending initial decision</td>\n",
       "      <td>More than 6 months</td>\n",
       "      <td>36.0</td>\n",
       "      <td>2010</td>\n",
       "    </tr>\n",
       "    <tr>\n",
       "      <th>3</th>\n",
       "      <td>2010-06-30</td>\n",
       "      <td>Afghanistan</td>\n",
       "      <td>Asia Central</td>\n",
       "      <td>Main Applicant</td>\n",
       "      <td>Pending further review</td>\n",
       "      <td>N/A - Further review</td>\n",
       "      <td>818.0</td>\n",
       "      <td>2010</td>\n",
       "    </tr>\n",
       "    <tr>\n",
       "      <th>4</th>\n",
       "      <td>2010-06-30</td>\n",
       "      <td>Afghanistan</td>\n",
       "      <td>Asia Central</td>\n",
       "      <td>Main Applicant</td>\n",
       "      <td>Pending initial decision</td>\n",
       "      <td>6 months or less</td>\n",
       "      <td>319.0</td>\n",
       "      <td>2010</td>\n",
       "    </tr>\n",
       "  </tbody>\n",
       "</table>\n",
       "</div>"
      ],
      "text/plain": [
       "        Date  Nationality        Region  Applicant type  \\\n",
       "0 2010-06-30  Afghanistan  Asia Central       Dependant   \n",
       "1 2010-06-30  Afghanistan  Asia Central       Dependant   \n",
       "2 2010-06-30  Afghanistan  Asia Central       Dependant   \n",
       "3 2010-06-30  Afghanistan  Asia Central  Main Applicant   \n",
       "4 2010-06-30  Afghanistan  Asia Central  Main Applicant   \n",
       "\n",
       "          Application stage              Duration  Applications  Year  \n",
       "0    Pending further review  N/A - Further review         129.0  2010  \n",
       "1  Pending initial decision      6 months or less          38.0  2010  \n",
       "2  Pending initial decision    More than 6 months          36.0  2010  \n",
       "3    Pending further review  N/A - Further review         818.0  2010  \n",
       "4  Pending initial decision      6 months or less         319.0  2010  "
      ]
     },
     "execution_count": 13,
     "metadata": {},
     "output_type": "execute_result"
    }
   ],
   "source": [
    "#applications_awaiting_decisions rename date column\n",
    "#take out year from date in another column\n",
    "app_awaiting_decisions['Date'] = pd.to_datetime(app_awaiting_decisions['Date'])\n",
    "app_awaiting_decisions['Year'] = app_awaiting_decisions['Date'].dt.year\n",
    "app_awaiting_decisions.head()"
   ]
  },
  {
   "cell_type": "code",
   "execution_count": 14,
   "id": "9a3ae6b6-b72c-4cba-afcc-425584517a36",
   "metadata": {},
   "outputs": [],
   "source": [
    "#cleaning as above-\n",
    "app_awaiting_decisions['Year'] = app_awaiting_decisions['Year'].astype(str)\n",
    "#app_awaiting_decisions['Applications'] = app_awaiting_decisions['Applications'].astr.replace(',', '')\n",
    "app_awaiting_decisions['Applications'] = app_awaiting_decisions['Applications'].fillna(0).astype(int)\n"
   ]
  },
  {
   "cell_type": "code",
   "execution_count": 23,
   "id": "f182df2b-91c5-4302-94b6-e6f241f71d0b",
   "metadata": {},
   "outputs": [
    {
     "data": {
      "text/html": [
       "<div>\n",
       "<style scoped>\n",
       "    .dataframe tbody tr th:only-of-type {\n",
       "        vertical-align: middle;\n",
       "    }\n",
       "\n",
       "    .dataframe tbody tr th {\n",
       "        vertical-align: top;\n",
       "    }\n",
       "\n",
       "    .dataframe thead th {\n",
       "        text-align: right;\n",
       "    }\n",
       "</style>\n",
       "<table border=\"1\" class=\"dataframe\">\n",
       "  <thead>\n",
       "    <tr style=\"text-align: right;\">\n",
       "      <th></th>\n",
       "      <th>Year</th>\n",
       "      <th>Applications</th>\n",
       "    </tr>\n",
       "  </thead>\n",
       "  <tbody>\n",
       "    <tr>\n",
       "      <th>0</th>\n",
       "      <td>2010</td>\n",
       "      <td>49736</td>\n",
       "    </tr>\n",
       "    <tr>\n",
       "      <th>1</th>\n",
       "      <td>2011</td>\n",
       "      <td>67386</td>\n",
       "    </tr>\n",
       "    <tr>\n",
       "      <th>2</th>\n",
       "      <td>2012</td>\n",
       "      <td>67337</td>\n",
       "    </tr>\n",
       "    <tr>\n",
       "      <th>3</th>\n",
       "      <td>2013</td>\n",
       "      <td>82526</td>\n",
       "    </tr>\n",
       "    <tr>\n",
       "      <th>4</th>\n",
       "      <td>2014</td>\n",
       "      <td>117684</td>\n",
       "    </tr>\n",
       "    <tr>\n",
       "      <th>5</th>\n",
       "      <td>2015</td>\n",
       "      <td>125428</td>\n",
       "    </tr>\n",
       "    <tr>\n",
       "      <th>6</th>\n",
       "      <td>2016</td>\n",
       "      <td>135385</td>\n",
       "    </tr>\n",
       "    <tr>\n",
       "      <th>7</th>\n",
       "      <td>2017</td>\n",
       "      <td>127807</td>\n",
       "    </tr>\n",
       "    <tr>\n",
       "      <th>8</th>\n",
       "      <td>2018</td>\n",
       "      <td>138899</td>\n",
       "    </tr>\n",
       "    <tr>\n",
       "      <th>9</th>\n",
       "      <td>2019</td>\n",
       "      <td>190561</td>\n",
       "    </tr>\n",
       "    <tr>\n",
       "      <th>10</th>\n",
       "      <td>2020</td>\n",
       "      <td>243666</td>\n",
       "    </tr>\n",
       "    <tr>\n",
       "      <th>11</th>\n",
       "      <td>2021</td>\n",
       "      <td>335241</td>\n",
       "    </tr>\n",
       "    <tr>\n",
       "      <th>12</th>\n",
       "      <td>2022</td>\n",
       "      <td>556430</td>\n",
       "    </tr>\n",
       "    <tr>\n",
       "      <th>13</th>\n",
       "      <td>2023</td>\n",
       "      <td>513626</td>\n",
       "    </tr>\n",
       "  </tbody>\n",
       "</table>\n",
       "</div>"
      ],
      "text/plain": [
       "    Year  Applications\n",
       "0   2010         49736\n",
       "1   2011         67386\n",
       "2   2012         67337\n",
       "3   2013         82526\n",
       "4   2014        117684\n",
       "5   2015        125428\n",
       "6   2016        135385\n",
       "7   2017        127807\n",
       "8   2018        138899\n",
       "9   2019        190561\n",
       "10  2020        243666\n",
       "11  2021        335241\n",
       "12  2022        556430\n",
       "13  2023        513626"
      ]
     },
     "execution_count": 23,
     "metadata": {},
     "output_type": "execute_result"
    }
   ],
   "source": [
    "#groupby: total number of applications that were pending decisions per year\n",
    "app_awaiting_decisions_yearly = app_awaiting_decisions.groupby('Year')['Applications'].sum().reset_index()\n",
    "app_awaiting_decisions_yearly\n"
   ]
  },
  {
   "cell_type": "code",
   "execution_count": 34,
   "id": "61f04bd6-7019-4ade-8ca1-8cd9ed4a2aab",
   "metadata": {},
   "outputs": [
    {
     "data": {
      "image/png": "[encoded data removed]",
      "text/plain": [
       "<Figure size 1000x600 with 1 Axes>"
      ]
     },
     "metadata": {},
     "output_type": "display_data"
    }
   ],
   "source": [
    "plt.figure(figsize=(10, 6))\n",
    "x_axis_2 = app_awaiting_decisions_yearly['Year']\n",
    "y_axis_2 = app_awaiting_decisions_yearly ['Applications']/1000\n",
    "plt.plot(x_axis_2, y_axis_2)\n",
    "plt.title('Number of Asylum Applications awaiting decisions yearly in the UK')\n",
    "plt.xlabel('Year')\n",
    "plt.ylabel('Number of Applications awaiting decisions (in thousands)')\n",
    "\n",
    "#Rotate x-axis labels for better readability\n",
    "plt.xticks(rotation=45, ha='right')\n",
    "\n",
    "plt.grid(True)\n",
    "plt.show()"
   ]
  },
  {
   "cell_type": "markdown",
   "id": "3d94964e-e3b3-47f0-a544-1d17ab2bf490",
   "metadata": {},
   "source": [
    "From this graph, we can see that the number of applications awaiting decisions follows the shape or fluctuations of the graph of number of applications. This indicates that the arrangements to process applications faster might not be taking place or not enough to assist in "
   ]
  },
  {
   "cell_type": "code",
   "execution_count": null,
   "id": "79242c28-4469-4ba0-803a-819f6b925c36",
   "metadata": {},
   "outputs": [],
   "source": [
    "#all from 2001-23, bar chart for number of applications made\n",
    "#rejects vs grant\n",
    "#plot trendline for awaiting applications (makes sense- includes dependants)\n",
    "#proportionality\n",
    "#compare means between the two\n",
    "#groupby, most number of applications country, which nationality longest to process etccc\n",
    "#\n",
    "\n"
   ]
  },
  {
   "cell_type": "code",
   "execution_count": 29,
   "id": "5d67e6ca-a78e-419c-9de8-af24013260a4",
   "metadata": {},
   "outputs": [
    {
     "name": "stdout",
     "output_type": "stream",
     "text": [
      "The mean of the number of applications per year is: 42516.357142857145\n",
      "The mean of the number of applications waiting decisions per year is: 196550.85714285713\n"
     ]
    }
   ],
   "source": [
    "#mean, seeing the difference between mean of both to figure rate?\n",
    "#not comparable because number of applications only includes main applicants\n",
    "#and the awaiting applications includes dependants\n",
    "\n",
    "mean_no_of_applications = applications_per_year['Applications'].iloc[9:].mean()\n",
    "print('The mean of the number of applications per year is:', mean_no_of_applications)\n",
    "\n",
    "mean_app_awaiting_decisions = app_awaiting_decisions_yearly['Applications'].mean()\n",
    "print('The mean of the number of applications waiting decisions per year is:', mean_app_awaiting_decisions)\n"
   ]
  },
  {
   "cell_type": "code",
   "execution_count": 19,
   "id": "b1f7de9f-3909-4a60-a002-beb29238dc7d",
   "metadata": {},
   "outputs": [],
   "source": [
    "#plot barchart- with the total number of applications and a portion for backlog\n",
    "#with a trendline of number of arrivals"
   ]
  },
  {
   "cell_type": "code",
   "execution_count": 20,
   "id": "1319792b-552c-4d26-977a-cbbb43de249a",
   "metadata": {},
   "outputs": [],
   "source": [
    "#lin regress between the two- quantify and predict"
   ]
  },
  {
   "cell_type": "code",
   "execution_count": null,
   "id": "34acc3da-9258-4cdf-a68a-e3dc6cff56fd",
   "metadata": {},
   "outputs": [],
   "source": [
    "#groupby to see which country has the most number of applications\n",
    "#which country longest to process applications of\n"
   ]
  },
  {
   "cell_type": "code",
   "execution_count": 18,
   "id": "18501aba-3a0e-4a34-8280-4544fcd76d48",
   "metadata": {},
   "outputs": [],
   "source": [
    "#discrepancies with those awaiting decisions and their gender and age; "
   ]
  },
  {
   "cell_type": "code",
   "execution_count": 21,
   "id": "dea4d545-7bf6-4eef-a9b1-d806c4afa236",
   "metadata": {},
   "outputs": [],
   "source": [
    "#facilitating it to the point of proportionality? Ask tomorrow"
   ]
  },
  {
   "cell_type": "code",
   "execution_count": 22,
   "id": "03917860-ad9b-4f96-9418-80ffd3d5bb1d",
   "metadata": {},
   "outputs": [],
   "source": [
    "#combinatory, comprehensive dataset\n",
    "#initial decision and resettlement"
   ]
  }
 ],
 "metadata": {
  "kernelspec": {
   "display_name": "Python 3 (ipykernel)",
   "language": "python",
   "name": "python3"
  },
  "language_info": {
   "codemirror_mode": {
    "name": "ipython",
    "version": 3
   },
   "file_extension": ".py",
   "mimetype": "text/x-python",
   "name": "python",
   "nbconvert_exporter": "python",
   "pygments_lexer": "ipython3",
   "version": "3.11.6"
  }
 },
 "nbformat": 4,
 "nbformat_minor": 5
}
